{
    "nbformat_minor": 1, 
    "cells": [
        {
            "execution_count": 1, 
            "cell_type": "code", 
            "metadata": {}, 
            "outputs": [
                {
                    "output_type": "stream", 
                    "name": "stderr", 
                    "text": "Using TensorFlow backend.\n/usr/local/src/conda3_runtime/home/envs/DSX-Python35-Spark/lib/python3.5/site-packages/h5py/__init__.py:34: FutureWarning: Conversion of the second argument of issubdtype from `float` to `np.floating` is deprecated. In future, it will be treated as `np.float64 == np.dtype(float).type`.\n  from ._conv import register_converters as _register_converters\n"
                }
            ], 
            "source": "# BASED ON RASCHKA (2015) AND BROWNLEE (2016) AND GERON (2017)\n\nimport matplotlib.pyplot as plt\nimport numpy as np\nimport pandas\n\nfrom keras.datasets import mnist\nfrom keras.models import Sequential\nfrom keras.layers import Dense\nfrom keras.layers import Dropout\nfrom keras.layers import Flatten\nfrom keras.layers.convolutional import Conv2D\nfrom keras.layers.convolutional import MaxPooling2D\nfrom keras.utils import np_utils\n\nfrom keras import backend as K\nK.set_image_dim_ordering('th')\n\nimport time\n%matplotlib inline"
        }, 
        {
            "execution_count": 14, 
            "cell_type": "code", 
            "metadata": {}, 
            "outputs": [
                {
                    "output_type": "stream", 
                    "name": "stdout", 
                    "text": "Rows: 60000, columns: 28\nRows: 10000, columns: 28\n"
                }
            ], 
            "source": "# OBTAIN - ASSIGN MNIST TO VARIABLES\n\n(X_train, y_train), (X_test, y_test) = mnist.load_data()\n\nprint('Rows: %d, columns: %d' % (X_train.shape[0], X_train.shape[1]))\n\nprint('Rows: %d, columns: %d' % (X_test.shape[0], X_test.shape[1]))"
        }, 
        {
            "execution_count": 15, 
            "cell_type": "code", 
            "metadata": {}, 
            "outputs": [
                {
                    "output_type": "stream", 
                    "name": "stdout", 
                    "text": "Rows: 60000, columns: 784\nRows: 10000, columns: 784\n"
                }
            ], 
            "source": "# SCRUB - WITH THIS IMPORT METHOD WE NEED TO CONVERT TO VECTOR\n\nnum_pixels = X_train.shape[1] * X_train.shape[2]\nX_train = X_train.reshape(X_train.shape[0], num_pixels).astype('float32')\nX_test = X_test.reshape(X_test.shape[0], num_pixels).astype('float32')\n\nprint('Rows: %d, columns: %d' % (X_train.shape[0], X_train.shape[1]))\n\nprint('Rows: %d, columns: %d' % (X_test.shape[0], X_test.shape[1]))"
        }, 
        {
            "execution_count": 16, 
            "cell_type": "code", 
            "metadata": {}, 
            "outputs": [
                {
                    "output_type": "display_data", 
                    "data": {
                        "image/png": "[encoded data removed]", 
                        "text/plain": "<matplotlib.figure.Figure at 0x7fe2b9b72860>"
                    }, 
                    "metadata": {}
                }
            ], 
            "source": "# EXPLORE - VISUALIZE DIFFERENT VARIATIONS OF 9\n\nfig, ax = plt.subplots(nrows=5, ncols=4, sharex=True, sharey=True,)\nax = ax.flatten()\nfor i in range(20):\n    img = X_train[y_train == 9][i].reshape(28, 28)\n    ax[i].imshow(img, cmap='Greys', interpolation='nearest')\n\nax[0].set_xticks([])\nax[0].set_yticks([])\nplt.tight_layout()"
        }, 
        {
            "execution_count": 17, 
            "cell_type": "code", 
            "metadata": {}, 
            "outputs": [], 
            "source": "# SCRUB - TRANSFORM - N\n\nX_train = X_train / 255\nX_test = X_test / 255"
        }, 
        {
            "execution_count": 18, 
            "cell_type": "code", 
            "metadata": {}, 
            "outputs": [], 
            "source": "# SCRUB - TRANSFORM FROM VECTOR TO BINARY MATRIX\n\ny_train = np_utils.to_categorical(y_train)\ny_test = np_utils.to_categorical(y_test)\nnum_classes = y_test.shape[1]"
        }, 
        {
            "execution_count": 19, 
            "cell_type": "code", 
            "metadata": {}, 
            "outputs": [], 
            "source": "# MODEL - BUILD BASE MODEL FOR MLP\n\ndef baseline_model():\n    # create model\n    model = Sequential()\n    model.add(Dense(num_pixels, input_dim=num_pixels, kernel_initializer='normal', activation='relu'))\n    model.add(Dense(num_classes, kernel_initializer='normal', activation='softmax'))\n    # Compile model\n    model.compile(loss='categorical_crossentropy', optimizer='adam', metrics=['accuracy'])\n    return model"
        }, 
        {
            "execution_count": 20, 
            "cell_type": "code", 
            "metadata": {}, 
            "outputs": [
                {
                    "output_type": "stream", 
                    "name": "stdout", 
                    "text": "Train on 60000 samples, validate on 10000 samples\nEpoch 1/10\n5s - loss: 0.2838 - acc: 0.9193 - val_loss: 0.1464 - val_acc: 0.9572\nEpoch 2/10\n5s - loss: 0.1127 - acc: 0.9677 - val_loss: 0.0911 - val_acc: 0.9736\nEpoch 3/10\n5s - loss: 0.0721 - acc: 0.9788 - val_loss: 0.0763 - val_acc: 0.9763\nEpoch 4/10\n5s - loss: 0.0510 - acc: 0.9852 - val_loss: 0.0662 - val_acc: 0.9796\nEpoch 5/10\n5s - loss: 0.0367 - acc: 0.9896 - val_loss: 0.0621 - val_acc: 0.9803\nEpoch 6/10\n5s - loss: 0.0276 - acc: 0.9923 - val_loss: 0.0681 - val_acc: 0.9789\nEpoch 7/10\n5s - loss: 0.0214 - acc: 0.9946 - val_loss: 0.0653 - val_acc: 0.9802\nEpoch 8/10\n5s - loss: 0.0148 - acc: 0.9965 - val_loss: 0.0663 - val_acc: 0.9788\nEpoch 9/10\n5s - loss: 0.0106 - acc: 0.9979 - val_loss: 0.0681 - val_acc: 0.9796\nEpoch 10/10\n5s - loss: 0.0085 - acc: 0.9982 - val_loss: 0.0626 - val_acc: 0.9808\nBaseline Error: 1.92%\n58.64673209190369\n"
                }
            ], 
            "source": "# MODEL - FIT THE BASE MODEL\n\nstart = time.time()  # TRACK TIME\n\nmodel = baseline_model()\nmodel.fit(X_train, y_train, validation_data=(X_test, y_test), epochs=10, batch_size=200, verbose=2)\n\n# MODEL - RESULTS\n\nscores = model.evaluate(X_test, y_test, verbose=0)\nprint(\"Baseline Error: %.2f%%\" % (100-scores[1]*100))\n\nend = time.time()\nfinal_time = end-start\nprint(final_time)  # RUN TIME OF BLOCK"
        }, 
        {
            "source": "## COMPARISON WITH CONVOLUTION NETWORK", 
            "cell_type": "markdown", 
            "metadata": {}
        }, 
        {
            "execution_count": 21, 
            "cell_type": "code", 
            "metadata": {}, 
            "outputs": [], 
            "source": "# OBTAIN - 2 - RELOAD INTO PIXELS WIDTH HEIGHT\n\n(X_train, y_train), (X_test, y_test) = mnist.load_data()\n\n# SCRUB INTO PIXELS WIDTH HEIGHT\n\nX_train = X_train.reshape(X_train.shape[0], 1, 28, 28).astype('float32')\nX_test = X_test.reshape(X_test.shape[0], 1, 28, 28).astype('float32')\n"
        }, 
        {
            "execution_count": 22, 
            "cell_type": "code", 
            "metadata": {}, 
            "outputs": [], 
            "source": "# SCRUB - NORMALIZE AND BUILD CLASS MATRIX\n\nX_train = X_train / 255\nX_test = X_test / 255\n\ny_train = np_utils.to_categorical(y_train)\ny_test = np_utils.to_categorical(y_test)\nnum_classes = y_test.shape[1]"
        }, 
        {
            "execution_count": 23, 
            "cell_type": "code", 
            "metadata": {}, 
            "outputs": [], 
            "source": "# MODEL BUILD BASELINE\n\ndef baseline_cnn():\n    # create model\n    model = Sequential()  # ORDER FOR RUN\n    model.add(Conv2D(32, (5, 5), input_shape=(1, 28, 28), activation='relu'))   # INPUT LAYER - LOOKING FOR PIXELS WIDTH HEIGHT = \n    model.add(MaxPooling2D(pool_size=(2, 2)))  # POOLING LAYER - USED TO REDUCE SPATIAL DIMENSIONS - WILL REDUCE BY PICKING LARGEST VALUE IN SLIDING 2x2 WINDOW\n    model.add(Dropout(0.2))  # RANDOMLY EXCLUDE 20% OF NEURONS - HELPS MINIMIZE OVERFITTING\n    model.add(Flatten())  # CONVERTING TO VECTOR\n    model.add(Dense(128, activation='relu'))  # LARGE LAYER (FOR THIS MODEL - 128 NEURONS) - ACTIVATION FUNCTION IS f(x) = log(1 + exp x) \n    model.add(Dense(num_classes, activation='softmax'))  # MAPS VECTOR TO SPECIFIC CLASS OR TARGET VALUE\n    # Compile model\n    model.compile(loss='categorical_crossentropy', optimizer='adam', metrics=['accuracy'])  # OPTIMIZER - https://arxiv.org/abs/1412.6980v8\n                                                                                            # LEARNING RATE 0.001\n    return model\n"
        }, 
        {
            "execution_count": 24, 
            "cell_type": "code", 
            "metadata": {}, 
            "outputs": [
                {
                    "output_type": "stream", 
                    "name": "stdout", 
                    "text": "Train on 60000 samples, validate on 10000 samples\nEpoch 1/10\n105s - loss: 0.2519 - acc: 0.9265 - val_loss: 0.0812 - val_acc: 0.9745\nEpoch 2/10\n105s - loss: 0.0739 - acc: 0.9778 - val_loss: 0.0486 - val_acc: 0.9846\nEpoch 3/10\n105s - loss: 0.0517 - acc: 0.9847 - val_loss: 0.0388 - val_acc: 0.9864\nEpoch 4/10\n105s - loss: 0.0414 - acc: 0.9874 - val_loss: 0.0430 - val_acc: 0.9869\nEpoch 5/10\n105s - loss: 0.0344 - acc: 0.9892 - val_loss: 0.0552 - val_acc: 0.9813\nEpoch 6/10\n104s - loss: 0.0283 - acc: 0.9908 - val_loss: 0.0350 - val_acc: 0.9894\nEpoch 7/10\n105s - loss: 0.0229 - acc: 0.9930 - val_loss: 0.0346 - val_acc: 0.9888\nEpoch 8/10\n105s - loss: 0.0198 - acc: 0.9938 - val_loss: 0.0297 - val_acc: 0.9898\nEpoch 9/10\n105s - loss: 0.0165 - acc: 0.9949 - val_loss: 0.0359 - val_acc: 0.9887\nEpoch 10/10\n105s - loss: 0.0154 - acc: 0.9949 - val_loss: 0.0260 - val_acc: 0.9926\nCNN Error: 0.74%\n1064.5658180713654\n"
                }
            ], 
            "source": "# MODEL - FIT - https://keras.io/models/model/\n\nstart = time.time()  # TRACK TIME\n\nmodel = baseline_cnn()\nmodel.fit(X_train, y_train, validation_data=(X_test, y_test), epochs=10, batch_size=200, verbose=2)  # BATCH SIZE CAN HELP WITH MEMORY - HOWEVER SMALLER BATCH MIGHT REDUCE ACCURACY\n                                                                                                     # NUMBER OF EPOCHS  IS NUMBER OF TIMES THROUGH NETWORK   \n                                                                                                     # 300 ITERATIONS PER EPOCH\n                                                                                                     # VERBOSE - ONE LINE PER EPOCH\n\n# MODEL - RESULTS\nscores = model.evaluate(X_test, y_test, verbose=0)\nprint(\"CNN Error: %.2f%%\" % (100-scores[1]*100))\n\nend = time.time()\nfinal_time = end-start\nprint(final_time)  # RUN TIME OF BLOCK"
        }, 
        {
            "source": "## WHAT IF WE CHANGE OPTIMIZER?", 
            "cell_type": "markdown", 
            "metadata": {}
        }, 
        {
            "execution_count": 26, 
            "cell_type": "code", 
            "metadata": {}, 
            "outputs": [], 
            "source": "# MODEL STOCHASTIC GRADIENT DESCENT MODEL  - https://keras.io/optimizers/\n\ndef baseline_cnnsgd():\n    # create model\n    model = Sequential()  # ORDER FOR RUN\n    model.add(Conv2D(32, (5, 5), input_shape=(1, 28, 28), activation='relu'))   # INPUT LAYER - LOOKING FOR PIXELS WIDTH HEIGHT = \n    model.add(MaxPooling2D(pool_size=(2, 2)))  # POOLING LAYER - USED TO REDUCE SPATIAL DIMENSIONS - WILL REDUCE BY PICKING LARGEST VALUE IN SLIDING 2x2 WINDOW\n    model.add(Dropout(0.2))  # RANDOMLY EXCLUDE 20% OF NEURONS - HELPS MINIMIZE OVERFITTING\n    model.add(Flatten())  # CONVERTING TO VECTOR\n    model.add(Dense(128, activation='relu'))  # LARGE LAYER (FOR THIS MODEL - 128 NEURONS) - ACTIVATION FUNCTION IS f(x) = log(1 + exp x) \n    model.add(Dense(num_classes, activation='softmax'))  # MAPS VECTOR TO SPECIFIC CLASS OR TARGET VALUE\n    # Compile model\n    model.compile(loss='categorical_crossentropy', optimizer='SGD', metrics=['accuracy'])  # OPTIMIZER - https://github.com/keras-team/keras/blob/master/keras/optimizers.py#L157\n                                                                                            # LEARNING RATE 0.01\n    return model\n"
        }, 
        {
            "execution_count": 27, 
            "cell_type": "code", 
            "metadata": {}, 
            "outputs": [
                {
                    "output_type": "stream", 
                    "name": "stdout", 
                    "text": "Train on 60000 samples, validate on 10000 samples\nEpoch 1/10\n104s - loss: 1.2941 - acc: 0.6691 - val_loss: 0.4577 - val_acc: 0.8799\nEpoch 2/10\n104s - loss: 0.4276 - acc: 0.8763 - val_loss: 0.3261 - val_acc: 0.9083\nEpoch 3/10\n104s - loss: 0.3529 - acc: 0.8954 - val_loss: 0.2840 - val_acc: 0.9186\nEpoch 4/10\n104s - loss: 0.3151 - acc: 0.9080 - val_loss: 0.2574 - val_acc: 0.9253\nEpoch 5/10\n104s - loss: 0.2860 - acc: 0.9157 - val_loss: 0.2337 - val_acc: 0.9333\nEpoch 6/10\n104s - loss: 0.2635 - acc: 0.9221 - val_loss: 0.2171 - val_acc: 0.9384\nEpoch 7/10\n105s - loss: 0.2439 - acc: 0.9284 - val_loss: 0.1994 - val_acc: 0.9432\nEpoch 8/10\n105s - loss: 0.2264 - acc: 0.9335 - val_loss: 0.1866 - val_acc: 0.9461\nEpoch 9/10\n104s - loss: 0.2102 - acc: 0.9384 - val_loss: 0.1749 - val_acc: 0.9508\nEpoch 10/10\n103s - loss: 0.1968 - acc: 0.9422 - val_loss: 0.1621 - val_acc: 0.9535\nCNN Error: 4.65%\n1056.7240617275238\n"
                }
            ], 
            "source": "# MODEL - FIT\n\nstart = time.time()  # TRACK TIME\n\nmodel2 = baseline_cnnsgd()\nmodel2.fit(X_train, y_train, validation_data=(X_test, y_test), epochs=10, batch_size=200, verbose=2)  \n\n# MODEL - RESULTS\nscores = model2.evaluate(X_test, y_test, verbose=0)\nprint(\"CNN Error: %.2f%%\" % (100-scores[1]*100))\n\nend = time.time()\nfinal_time = end-start\nprint(final_time)  # RUN TIME OF BLOCK"
        }, 
        {
            "execution_count": null, 
            "cell_type": "code", 
            "metadata": {}, 
            "outputs": [], 
            "source": ""
        }
    ], 
    "metadata": {
        "kernelspec": {
            "display_name": "Python 3.5 with Spark 2.1", 
            "name": "python3-spark21", 
            "language": "python"
        }, 
        "language_info": {
            "mimetype": "text/x-python", 
            "nbconvert_exporter": "python", 
            "version": "3.5.4", 
            "name": "python", 
            "file_extension": ".py", 
            "pygments_lexer": "ipython3", 
            "codemirror_mode": {
                "version": 3, 
                "name": "ipython"
            }
        }
    }, 
    "nbformat": 4
}